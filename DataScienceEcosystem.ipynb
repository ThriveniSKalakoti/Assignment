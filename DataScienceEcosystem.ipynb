{
 "cells": [
  {
   "cell_type": "markdown",
   "id": "dd7a94e0-bc89-41a5-b16c-7fabd1f1f096",
   "metadata": {},
   "source": [
    "# Data Science Tools and Ecosystem"
   ]
  },
  {
   "cell_type": "markdown",
   "id": "ac1bd9b7-914e-43cc-a290-75784537608c",
   "metadata": {},
   "source": [
    "#### In this notebook, Data Science Tools and Ecosystem are summarized."
   ]
  },
  {
   "cell_type": "markdown",
   "id": "b84b199e-2774-4603-b90d-ca96f6933fc0",
   "metadata": {},
   "source": [
    "### **Objectives:**\n",
    "- List popular languages for Data Science\n",
    "- List of commonly used Data science libraries\n",
    "- Some of the Data Science Tools\n",
    "- Evaluation of Arithmetic Expression\n",
    "- Converting 200 minutes to hours"
   ]
  },
  {
   "cell_type": "markdown",
   "id": "367ce5b0-1e32-4c4a-967a-8391b5fd0186",
   "metadata": {},
   "source": [
    "#### Some of the popular languages that Data Scientists use are:\n",
    "1. Python\n",
    "2. R\n",
    "3. SQL\n",
    "4. Java\n",
    "5. Julia\n",
    "6. Scala\n",
    "7. C/C++\n",
    "8. JavaScript\n",
    "9. Swift\n",
    "10. Go\n",
    "11. MATLAB\n",
    "12. SAS \n"
   ]
  },
  {
   "cell_type": "markdown",
   "id": "2c3c3d44-7d92-4c5a-8cd7-85034a7d4964",
   "metadata": {},
   "source": [
    "#### Some of the commonly used libraries used by Data Scientists include:\n",
    "1. TensorFlow\n",
    "2. NumPy\n",
    "3. scipy\n",
    "4. Pandas\n",
    "5. Matplotlib \n",
    "6. Keras\n",
    "7. SciKit-Learn\n",
    "8. PyTorch\n",
    "9. Caffe\n",
    "10. NLTK\n",
    "11. Seaborn"
   ]
  },
  {
   "cell_type": "markdown",
   "id": "03227edd-9222-4e80-9049-756bdcfe57e7",
   "metadata": {},
   "source": [
    "#### Some of the Data Science Tools are:\n",
    "| Data Science Tools |\n",
    "-------------------------\n",
    "| Jupyter Notebook |\n",
    "| SQL |\n",
    "| Tableau |"
   ]
  },
  {
   "cell_type": "markdown",
   "id": "d87ddbaf-2af7-4265-8036-634e66d5c032",
   "metadata": {},
   "source": [
    "### Below are a few examples of evaluating arithmetic expressions in Python"
   ]
  },
  {
   "cell_type": "code",
   "execution_count": 1,
   "id": "0392fbf2-8bbb-452e-901c-0adbd876bd4d",
   "metadata": {
    "tags": []
   },
   "outputs": [
    {
     "data": {
      "text/plain": [
       "17"
      ]
     },
     "execution_count": 1,
     "metadata": {},
     "output_type": "execute_result"
    }
   ],
   "source": [
    "# This a simple arithmetic expression to mutiply then add integers\n",
    "(3*4)+5"
   ]
  },
  {
   "cell_type": "code",
   "execution_count": 5,
   "id": "8c9e419e-c909-4eb0-9dee-3899c32df042",
   "metadata": {
    "tags": []
   },
   "outputs": [
    {
     "name": "stdout",
     "output_type": "stream",
     "text": [
      "3.33 hours\n"
     ]
    }
   ],
   "source": [
    "# This will convert 200 minutes to hours by diving by 60\n",
    "n = 200/60\n",
    "print(round(n,2), \"hours\")"
   ]
  },
  {
   "cell_type": "markdown",
   "id": "6e4a7732-d8fc-412a-b859-14fdf4068afc",
   "metadata": {},
   "source": [
    "## Author\n",
    "#### Thriveni Sai Kalakoti"
   ]
  },
  {
   "cell_type": "code",
   "execution_count": null,
   "id": "6862f08a-5dab-4b2e-b2e0-b43f64706e36",
   "metadata": {},
   "outputs": [],
   "source": []
  }
 ],
 "metadata": {
  "kernelspec": {
   "display_name": "Python",
   "language": "python",
   "name": "conda-env-python-py"
  },
  "language_info": {
   "codemirror_mode": {
    "name": "ipython",
    "version": 3
   },
   "file_extension": ".py",
   "mimetype": "text/x-python",
   "name": "python",
   "nbconvert_exporter": "python",
   "pygments_lexer": "ipython3",
   "version": "3.7.12"
  }
 },
 "nbformat": 4,
 "nbformat_minor": 5
}
